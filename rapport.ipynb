{
 "cells": [
  {
   "cell_type": "code",
   "execution_count": 7,
   "metadata": {},
   "outputs": [
    {
     "name": "stdout",
     "output_type": "stream",
     "text": [
      "The autoreload extension is already loaded. To reload it, use:\n",
      "  %reload_ext autoreload\n"
     ]
    }
   ],
   "source": [
    "%load_ext autoreload\n",
    "%autoreload 2"
   ]
  },
  {
   "cell_type": "code",
   "execution_count": 12,
   "metadata": {},
   "outputs": [],
   "source": [
    "from projet import executer_partie_allumettes,executer_partie_morpion\n",
    "from jeux.Morpion import Morpion\n",
    "from strategies.StrategieAleatoire import StrategieAleatoire\n",
    "from strategies.StrategieMinMax import StrategieMinMax\n",
    "from jeux.Allumettes import Allumettes\n"
   ]
  },
  {
   "cell_type": "markdown",
   "metadata": {},
   "source": [
    "# Exercice 2\n",
    "\n",
    "## Question 2.3\n",
    "\n",
    "simulationd'une partie de morpion entre deux joueurs jouant une stratégie aléatoire."
   ]
  },
  {
   "cell_type": "code",
   "execution_count": 11,
   "metadata": {},
   "outputs": [
    {
     "name": "stdout",
     "output_type": "stream",
     "text": [
      "  | X | X\n",
      "---------\n",
      "X | X | O\n",
      "---------\n",
      "O | O | O\n",
      "---------\n",
      "Le résultat de la partie est : O\n"
     ]
    }
   ],
   "source": [
    "jeu = Morpion()\n",
    "\n",
    "strategie1 = StrategieAleatoire(Morpion)\n",
    "strategie2 = StrategieAleatoire(Morpion)\n",
    "\n",
    "resultat = executer_partie_morpion(jeu,strategie1, strategie2)\n",
    "\n",
    "print(\"Le résultat de la partie est :\", resultat)"
   ]
  },
  {
   "cell_type": "markdown",
   "metadata": {},
   "source": [
    "# Execrice 3\n",
    "\n",
    "Strategie aleatoire contre Strategie minimax"
   ]
  },
  {
   "cell_type": "code",
   "execution_count": 13,
   "metadata": {},
   "outputs": [
    {
     "name": "stdout",
     "output_type": "stream",
     "text": [
      "O |   | X\n",
      "---------\n",
      "O | X |  \n",
      "---------\n",
      "O |   | X\n",
      "---------\n",
      "Le résultat de la partie est : O\n"
     ]
    }
   ],
   "source": [
    "jeu = Morpion()\n",
    "\n",
    "strategie1 = StrategieAleatoire(Morpion)\n",
    "strategie2 = StrategieMinMax(Morpion,3)\n",
    "\n",
    "resultat = executer_partie_morpion(jeu,strategie1, strategie2)\n",
    "\n",
    "print(\"Le résultat de la partie est :\", resultat)"
   ]
  },
  {
   "cell_type": "markdown",
   "metadata": {},
   "source": [
    "# Execrice 4\n",
    "\n",
    "Strategie aleatoire contre Strategie minimax Allumettes"
   ]
  },
  {
   "cell_type": "code",
   "execution_count": 17,
   "metadata": {},
   "outputs": [
    {
     "name": "stdout",
     "output_type": "stream",
     "text": [
      "Groupe 1: 0 allumettes\n",
      "Groupe 2: 0 allumettes\n",
      "Groupe 3: 0 allumettes\n",
      "Groupe 4: 0 allumettes\n",
      "Groupe 5: 0 allumettes\n",
      "Le résultat de la partie est : 2\n"
     ]
    }
   ],
   "source": [
    "\n",
    "jeu = Allumettes(5,3)\n",
    "\n",
    "strategie1 = StrategieAleatoire(Allumettes)\n",
    "strategie2 = StrategieMinMax(Allumettes,3)\n",
    "\n",
    "resultat = executer_partie_allumettes(jeu,strategie1, strategie2)\n",
    "\n",
    "print(\"Le résultat de la partie est :\", resultat)"
   ]
  }
 ],
 "metadata": {
  "kernelspec": {
   "display_name": "Python 3",
   "language": "python",
   "name": "python3"
  },
  "language_info": {
   "codemirror_mode": {
    "name": "ipython",
    "version": 3
   },
   "file_extension": ".py",
   "mimetype": "text/x-python",
   "name": "python",
   "nbconvert_exporter": "python",
   "pygments_lexer": "ipython3",
   "version": "3.11.4"
  }
 },
 "nbformat": 4,
 "nbformat_minor": 2
}
