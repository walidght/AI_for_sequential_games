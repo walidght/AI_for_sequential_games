{
 "cells": [
  {
   "cell_type": "code",
   "execution_count": 1,
   "metadata": {},
   "outputs": [],
   "source": [
    "%load_ext autoreload\n",
    "%autoreload 2"
   ]
  },
  {
   "cell_type": "code",
   "execution_count": 2,
   "metadata": {},
   "outputs": [],
   "source": [
    "from projet import executer_partie_allumettes, executer_partie_morpion\n",
    "from jeux.Morpion import Morpion\n",
    "from strategies.StrategieAleatoire import StrategieAleatoire\n",
    "from strategies.StrategieMinMax import StrategieMinMax\n",
    "from strategies.StrategieOptimale import StrategieOptimale\n",
    "from jeux.Allumettes import Allumettes\n"
   ]
  },
  {
   "cell_type": "markdown",
   "metadata": {},
   "source": [
    "# Exercice 2 : Représentation des stratégies\n",
    "\n",
    "## Question 2.3\n",
    "\n",
    "### Simulation d'une partie de morpion entre deux joueurs jouant une stratégie aléatoire."
   ]
  },
  {
   "cell_type": "code",
   "execution_count": 3,
   "metadata": {},
   "outputs": [
    {
     "name": "stdout",
     "output_type": "stream",
     "text": [
      "  | X |  \n",
      "---------\n",
      "O | O | O\n",
      "---------\n",
      "  | X | X\n",
      "---------\n",
      "Le résultat de la partie est : O a gagné.\n"
     ]
    }
   ],
   "source": [
    "jeu = Morpion()\n",
    "\n",
    "strategie1 = StrategieAleatoire(Morpion)\n",
    "strategie2 = StrategieAleatoire(Morpion)\n",
    "\n",
    "resultat = executer_partie_morpion(jeu, strategie1, strategie2)\n",
    "\n",
    "print(\"Le résultat de la partie est :\", resultat, \"a gagné.\" if resultat else \"Match nul\")"
   ]
  },
  {
   "cell_type": "markdown",
   "metadata": {},
   "source": [
    "# Execrice 3 : Stratégie MinMax\n",
    "\n",
    "## Strategie Aleatoire vs. Strategie MinMax"
   ]
  },
  {
   "cell_type": "code",
   "execution_count": 4,
   "metadata": {},
   "outputs": [
    {
     "name": "stdout",
     "output_type": "stream",
     "text": [
      "O |   | X\n",
      "---------\n",
      "X | O | X\n",
      "---------\n",
      "  |   | O\n",
      "---------\n",
      "Le résultat de la partie est : O a gagné.\n"
     ]
    }
   ],
   "source": [
    "jeu = Morpion()\n",
    "\n",
    "strategie1 = StrategieAleatoire(Morpion)\n",
    "strategie2 = StrategieMinMax(Morpion, 3)\n",
    "\n",
    "resultat = executer_partie_morpion(jeu, strategie1, strategie2)\n",
    "\n",
    "print(\"Le résultat de la partie est :\", resultat, \"a gagné.\" if resultat else \"Match nul\")"
   ]
  },
  {
   "cell_type": "markdown",
   "metadata": {},
   "source": [
    "# Execrice 4 : Application au jeux des allumettes\n",
    "\n",
    "## Strategie Aleatoire vs. Strategie MinMax"
   ]
  },
  {
   "cell_type": "code",
   "execution_count": 5,
   "metadata": {},
   "outputs": [
    {
     "name": "stdout",
     "output_type": "stream",
     "text": [
      "Groupe 1: 0 allumettes\n",
      "Groupe 2: 0 allumettes\n",
      "Groupe 3: 0 allumettes\n",
      "Groupe 4: 0 allumettes\n",
      "Groupe 5: 0 allumettes\n",
      "Le résultat de la partie est : J2 a gagné.\n"
     ]
    }
   ],
   "source": [
    "jeu = Allumettes(5, 3)\n",
    "\n",
    "strategie1 = StrategieAleatoire(Allumettes)\n",
    "strategie2 = StrategieMinMax(Allumettes, 3)\n",
    "\n",
    "resultat = executer_partie_allumettes(jeu, strategie1, strategie2)\n",
    "\n",
    "print(\"Le résultat de la partie est :\", f\"J{resultat} a gagné.\" if resultat else \"Match nul\")"
   ]
  },
  {
   "cell_type": "markdown",
   "metadata": {},
   "source": [
    "## Strategie MinMax vs. Strategie Optimale"
   ]
  },
  {
   "cell_type": "code",
   "execution_count": 6,
   "metadata": {},
   "outputs": [
    {
     "name": "stdout",
     "output_type": "stream",
     "text": [
      "Groupe 1: 0 allumettes\n",
      "Groupe 2: 0 allumettes\n",
      "Groupe 3: 0 allumettes\n",
      "Groupe 4: 0 allumettes\n",
      "Groupe 5: 0 allumettes\n",
      "Le résultat de la partie est : J2 a gagné.\n"
     ]
    }
   ],
   "source": [
    "jeu = Allumettes(5, 3)\n",
    "\n",
    "strategie1 = StrategieMinMax(Allumettes, 3)\n",
    "strategie2 = StrategieOptimale(jeu)\n",
    "\n",
    "resultat = executer_partie_allumettes(jeu, strategie1, strategie2)\n",
    "\n",
    "print(\"Le résultat de la partie est :\", f\"J{resultat} a gagné.\" if resultat else \"Match nul\")"
   ]
  },
  {
   "cell_type": "markdown",
   "metadata": {},
   "source": [
    "# Simulations"
   ]
  },
  {
   "cell_type": "code",
   "execution_count": 7,
   "metadata": {},
   "outputs": [
    {
     "name": "stdout",
     "output_type": "stream",
     "text": [
      "Groupe 1: 0 allumettes\n",
      "Groupe 2: 0 allumettes\n",
      "Groupe 3: 0 allumettes\n",
      "Tournoi : Random vs Optimal\n",
      "Victoires Joueur 1 : 0\n",
      "Victoires Joueur 2 : 100\n",
      "Matchs nuls : 0\n",
      "\n",
      "\n",
      "Tournoi : MinMax (k=2) vs Optimal\n",
      "Victoires Joueur 1 : 0\n",
      "Victoires Joueur 2 : 100\n",
      "Matchs nuls : 0\n",
      "\n",
      "\n",
      "Tournoi : MinMax (k=3) vs Optimal\n",
      "Victoires Joueur 1 : 0\n",
      "Victoires Joueur 2 : 100\n",
      "Matchs nuls : 0\n",
      "\n",
      "\n",
      "Tournoi : MinMax (k=4) vs Optimal\n",
      "Victoires Joueur 1 : 0\n",
      "Victoires Joueur 2 : 100\n",
      "Matchs nuls : 0\n",
      "\n",
      "\n"
     ]
    }
   ],
   "source": [
    "def run_tournament(jeu, strategie1, strategie2, num_parties):\n",
    "    \"\"\" Lance un tournoi entre deux stratégies pour un nombre spécifié de parties. \"\"\"\n",
    "    results = {'Joueur 1': 0, 'Joueur 2': 0, 'Match nul': 0}\n",
    "\n",
    "    for i in range(num_parties):\n",
    "        gagnant = executer_partie_allumettes(jeu, strategie1, strategie2)\n",
    "        \n",
    "        if gagnant == 1:\n",
    "            results['Joueur 1'] += 1\n",
    "        elif gagnant == 2:\n",
    "            results['Joueur 2'] += 1\n",
    "        else:\n",
    "            results['Match nul'] += 1\n",
    "\n",
    "    return results\n",
    "\n",
    "\n",
    "# Paramètres du tournoi\n",
    "num_parties = 100\n",
    "groupes = 3\n",
    "allumettes_par_groupe = 5\n",
    "\n",
    "# Création de l'instance de jeu\n",
    "jeu_allumettes = Allumettes(groupes, allumettes_par_groupe)\n",
    "\n",
    "# Création des différentes stratégies\n",
    "strategie_aleatoire = StrategieAleatoire(jeu_allumettes)\n",
    "strategie_optimale = StrategieOptimale(jeu_allumettes)\n",
    "strategies_minmax = []\n",
    "k_values = [2, 3, 4]  # Différentes profondeurs pour MinMax\n",
    "\n",
    "for k in k_values:\n",
    "    strategie_minmax = StrategieMinMax(jeu_allumettes, k)\n",
    "    strategies_minmax.append((strategie_minmax, f\"MinMax (k={k})\"))\n",
    "\n",
    "# Exécution des tournois et collecte des résultats\n",
    "results = {}\n",
    "\n",
    "# Stratégie aléatoire contre stratégie optimale\n",
    "results['Random vs Optimal'] = run_tournament(jeu_allumettes, strategie_aleatoire, strategie_optimale, num_parties)\n",
    "\n",
    "# Stratégies MinMax avec différentes profondeurs\n",
    "for strategie_minmax, label in strategies_minmax:\n",
    "    results[f'{label} vs Optimal'] = run_tournament(jeu_allumettes, strategie_minmax, strategie_optimale, num_parties)\n",
    "\n",
    "# Affichage des résultats\n",
    "for matchup, result in results.items():\n",
    "    print(f\"Tournoi : {matchup}\")\n",
    "    print(f\"Victoires Joueur 1 : {result['Joueur 1']}\")\n",
    "    print(f\"Victoires Joueur 2 : {result['Joueur 2']}\")\n",
    "    print(f\"Matchs nuls : {result['Match nul']}\")\n",
    "    print(\"\\n\")\n"
   ]
  }
 ],
 "metadata": {
  "kernelspec": {
   "display_name": "Python 3",
   "language": "python",
   "name": "python3"
  },
  "language_info": {
   "codemirror_mode": {
    "name": "ipython",
    "version": 3
   },
   "file_extension": ".py",
   "mimetype": "text/x-python",
   "name": "python",
   "nbconvert_exporter": "python",
   "pygments_lexer": "ipython3",
   "version": "3.11.4"
  }
 },
 "nbformat": 4,
 "nbformat_minor": 2
}
