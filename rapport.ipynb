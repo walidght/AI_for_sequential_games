{
 "cells": [
  {
   "cell_type": "code",
   "execution_count": 1,
   "metadata": {},
   "outputs": [],
   "source": [
    "%load_ext autoreload\n",
    "%autoreload 2"
   ]
  },
  {
   "cell_type": "code",
   "execution_count": 2,
   "metadata": {},
   "outputs": [],
   "source": [
    "from projet import Morpion, StrategieAleatoire, executer_partie_morpion, StrategieMinMax"
   ]
  },
  {
   "cell_type": "markdown",
   "metadata": {},
   "source": [
    "# Exercice 2\n",
    "\n",
    "## Question 2.3\n",
    "\n",
    "simulationd'une partie de morpion entre deux joueurs jouant une stratégie aléatoire."
   ]
  },
  {
   "cell_type": "code",
   "execution_count": 28,
   "metadata": {},
   "outputs": [
    {
     "name": "stdout",
     "output_type": "stream",
     "text": [
      "  |   |  \n",
      "---------\n",
      "X |   |  \n",
      "---------\n",
      "  |   |  \n",
      "---------\n",
      "  | O |  \n",
      "---------\n",
      "X |   |  \n",
      "---------\n",
      "  |   |  \n",
      "---------\n",
      "  | O |  \n",
      "---------\n",
      "X |   |  \n",
      "---------\n",
      "X |   |  \n",
      "---------\n",
      "  | O |  \n",
      "---------\n",
      "X | O |  \n",
      "---------\n",
      "X |   |  \n",
      "---------\n",
      "X | O |  \n",
      "---------\n",
      "X | O |  \n",
      "---------\n",
      "X |   |  \n",
      "---------\n",
      "Le résultat de la partie est : X\n"
     ]
    }
   ],
   "source": [
    "jeu = Morpion()\n",
    "\n",
    "strategie1 = StrategieAleatoire(Morpion)\n",
    "strategie2 = StrategieAleatoire(Morpion)\n",
    "\n",
    "resultat = executer_partie_morpion(jeu,strategie1, strategie2)\n",
    "\n",
    "print(\"Le résultat de la partie est :\", resultat)"
   ]
  },
  {
   "cell_type": "markdown",
   "metadata": {},
   "source": [
    "# Execrice 3\n",
    "\n",
    "Strategie aleatoire contre Strategie minimax"
   ]
  },
  {
   "cell_type": "code",
   "execution_count": 48,
   "metadata": {},
   "outputs": [
    {
     "name": "stdout",
     "output_type": "stream",
     "text": [
      "O | O | X\n",
      "---------\n",
      "O |   |  \n",
      "---------\n",
      "X | X | X\n",
      "---------\n",
      "Le résultat de la partie est : X\n"
     ]
    }
   ],
   "source": [
    "jeu = Morpion()\n",
    "\n",
    "strategie1 = StrategieAleatoire(Morpion)\n",
    "strategie2 = StrategieMinMax(Morpion,8)\n",
    "\n",
    "resultat = executer_partie_morpion(jeu,strategie1, strategie2)\n",
    "\n",
    "print(\"Le résultat de la partie est :\", resultat)"
   ]
  }
 ],
 "metadata": {
  "kernelspec": {
   "display_name": "Python 3",
   "language": "python",
   "name": "python3"
  },
  "language_info": {
   "codemirror_mode": {
    "name": "ipython",
    "version": 3
   },
   "file_extension": ".py",
   "mimetype": "text/x-python",
   "name": "python",
   "nbconvert_exporter": "python",
   "pygments_lexer": "ipython3",
   "version": "3.11.4"
  }
 },
 "nbformat": 4,
 "nbformat_minor": 2
}
